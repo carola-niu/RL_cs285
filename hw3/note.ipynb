{
 "cells": [
  {
   "cell_type": "code",
   "execution_count": 6,
   "metadata": {},
   "outputs": [
    {
     "name": "stdout",
     "output_type": "stream",
     "text": [
      "torch.Size([1, 2])\n",
      "torch.Size([1, 1, 2])\n",
      "torch.Size([2])\n",
      "torch.Size([1, 1, 2])\n",
      "torch.Size([1, 2])\n",
      "tensor([[True, True],\n",
      "        [True, True]])\n",
      "tensor([[0.6663, 0.5476],\n",
      "        [0.4932, 0.3015]])\n"
     ]
    }
   ],
   "source": [
    "# squeeze and unsqueeze are used to add or remove dimensions of size 1.\n",
    "import torch\n",
    "a = torch.rand(1,2)\n",
    "print(a.shape)\n",
    "b = a.unsqueeze(0)\n",
    "print(b.shape)\n",
    "c = a.squeeze(0)\n",
    "print(c.shape)\n",
    "d = a.unsqueeze(1)\n",
    "print(d.shape)\n",
    "e = a.squeeze(1)\n",
    "print(e.shape)\n",
    "\n",
    "\n",
    "\n",
    "\n",
    "# copying tensors; want a seperate copy of the tensor\n",
    "m = torch.rand(2,2)\n",
    "n = m.clone()\n",
    "assert m is not n\n",
    "print(torch.eq(m,n))\n",
    "\n",
    "m[0][1]=3\n",
    "print(n)\n",
    "\n"
   ]
  },
  {
   "cell_type": "code",
   "execution_count": 7,
   "metadata": {},
   "outputs": [
    {
     "name": "stdout",
     "output_type": "stream",
     "text": [
      "tensor([[0., 0., 0.],\n",
      "        [0., 0., 0.],\n",
      "        [0., 0., 0.],\n",
      "        [0., 0., 0.],\n",
      "        [0., 0., 0.]])\n",
      "torch.Size([5, 3])\n",
      "tensor([[0., 0., 0.],\n",
      "        [0., 0., 0.],\n",
      "        [0., 0., 0.],\n",
      "        [0., 0., 0.],\n",
      "        [0., 0., 0.]])\n",
      "torch.Size([5, 3])\n"
     ]
    }
   ],
   "source": [
    "x =torch.empty(5,3)\n",
    "print(x)\n",
    "print(x.shape)\n",
    "\n",
    "empty_like_x = torch.empty_like(x)\n",
    "print(empty_like_x)\n",
    "print(empty_like_x.shape)\n",
    "\n",
    "# similarly, zeros_like, ones_like, rand_like"
   ]
  },
  {
   "cell_type": "code",
   "execution_count": 12,
   "metadata": {},
   "outputs": [
    {
     "name": "stdout",
     "output_type": "stream",
     "text": [
      "tensor([[0.6976, 0.4845],\n",
      "        [0.6780, 0.4050]], requires_grad=True)\n",
      "tensor([[0.6976, 0.4845],\n",
      "        [0.6780, 0.4050]], grad_fn=<CloneBackward0>)\n",
      "tensor([[0.6976, 0.4845],\n",
      "        [0.6780, 0.4050]])\n",
      "tensor([[0.6976, 0.4845],\n",
      "        [0.6780, 0.4050]], requires_grad=True)\n"
     ]
    }
   ],
   "source": [
    "# turn off the autograd engine\n",
    "a = torch.rand(2,2, requires_grad=True)\n",
    "print(a)\n",
    "b= a.clone()\n",
    "print(b) #inherates the requires_grad property\n",
    "c = a.detach().clone() #no computation history\n",
    "print(c)\n",
    "\n",
    "print(a)"
   ]
  },
  {
   "cell_type": "code",
   "execution_count": 11,
   "metadata": {},
   "outputs": [
    {
     "name": "stdout",
     "output_type": "stream",
     "text": [
      "tensor([[0.6626, 0.0788, 0.0374, 0.9307],\n",
      "        [0.9772, 0.3155, 0.0400, 0.9812]])\n",
      "tensor([[1.3252, 0.1577, 0.0748, 1.8615],\n",
      "        [1.9543, 0.6310, 0.0801, 1.9623]])\n",
      "tensor([[1.3252, 0.1577, 0.0748, 1.8615],\n",
      "        [1.9543, 0.6310, 0.0801, 1.9623]])\n"
     ]
    }
   ],
   "source": [
    "# tensor broadcasting\n",
    "rand = torch.rand(2,4)\n",
    "doubled = rand*(torch.ones(2,1)*2)\n",
    "double = rand*(torch.ones(1,4)*2)\n",
    "print(rand)\n",
    "print(doubled)\n",
    "print(double)\n"
   ]
  }
 ],
 "metadata": {
  "kernelspec": {
   "display_name": "cs285",
   "language": "python",
   "name": "python3"
  },
  "language_info": {
   "codemirror_mode": {
    "name": "ipython",
    "version": 3
   },
   "file_extension": ".py",
   "mimetype": "text/x-python",
   "name": "python",
   "nbconvert_exporter": "python",
   "pygments_lexer": "ipython3",
   "version": "3.11.4"
  },
  "orig_nbformat": 4
 },
 "nbformat": 4,
 "nbformat_minor": 2
}
